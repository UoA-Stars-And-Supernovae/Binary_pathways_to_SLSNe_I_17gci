{
 "cells": [
  {
   "cell_type": "code",
   "execution_count": 1,
   "metadata": {},
   "outputs": [],
   "source": [
    "import gc\n",
    "\n",
    "import pandas as pd\n",
    "import numpy as np\n",
    "import matplotlib.pyplot as plt\n",
    "\n",
    "def df_last_step(df):\n",
    "    \"\"\" Returns a dataframe with only the rows corresponding to the last time steps of each model \"\"\"\n",
    "    max_age=df.groupby('filenames').max().age\n",
    "\n",
    "    temp_dfs = [] \n",
    "    for age, model in zip(max_age.values, max_age.index.values):\n",
    "        temp_dfs.append(df[(df.filenames==model) & (df.age==age)])\n",
    "\n",
    "    last_step = pd.concat(temp_dfs)\n",
    "    del temp_dfs\n",
    "    return last_step\n",
    "\n",
    "\n",
    "plt.style.use('hfs')"
   ]
  },
  {
   "cell_type": "markdown",
   "metadata": {},
   "source": [
    "# Model Search\n",
    "\n",
    "The most time consuming part of the model search is to find and record all the models with M1 ZAMS at least 10 solar masses, and create the data frame containing the last step of teach of these models. \n",
    "\n",
    "These steps have been carried out and pre-cropped data is provided alongside this jupyter notebook to make the recreation of this analysis manageable to all. You will need the following files:\n",
    "\n",
    "* `Models_M1zams_10msol_ALL.pkl`\n",
    "* `Models_M1zams_10msol_LAST.pkl`\n",
    "\n",
    "Note that these files are too large to be stored on GitHub: Send en email to `hfstevance@gmail.com` if you need them. \n",
    "\n",
    "## Load data"
   ]
  },
  {
   "cell_type": "code",
   "execution_count": 10,
   "metadata": {},
   "outputs": [
    {
     "data": {
      "text/plain": [
       "(9476, 52114157)"
      ]
     },
     "execution_count": 10,
     "metadata": {},
     "output_type": "execute_result"
    }
   ],
   "source": [
    "data_massive = pd.read_pickle('Models_M1zams_10msol_ALL.pkl')\n",
    "last_step = pd.read_pickle('Models_M1zams_10msol_LAST.pkl')\n",
    "\n",
    "data_massive.filenames.unique().size, data_massive.size"
   ]
  },
  {
   "cell_type": "markdown",
   "metadata": {},
   "source": [
    "## Neutron Stars"
   ]
  },
  {
   "cell_type": "code",
   "execution_count": 3,
   "metadata": {},
   "outputs": [],
   "source": [
    "# Models that match\n",
    "ns_sn_models = last_step[last_step.Mrem_SN < 2.43].filenames.unique()\n",
    "ns_supersn_models = last_step[last_step.Mrem_superSN < 2.43].filenames.unique()\n",
    "\n",
    "# cropping the data frame\n",
    "data_ns_SN=data_massive[data_massive.filenames.isin(ns_sn_models)]\n",
    "data_ns_superSN=data_massive[data_massive.filenames.isin(ns_supersn_models)]\n",
    "\n",
    "# clean up \n",
    "del data_massive\n",
    "gc.garbage.clear()"
   ]
  },
  {
   "cell_type": "code",
   "execution_count": 4,
   "metadata": {},
   "outputs": [
    {
     "data": {
      "text/plain": [
       "(5155, 9233)"
      ]
     },
     "execution_count": 4,
     "metadata": {},
     "output_type": "execute_result"
    }
   ],
   "source": [
    "data_ns_SN.filenames.unique().size, data_ns_superSN.filenames.unique().size"
   ]
  },
  {
   "cell_type": "markdown",
   "metadata": {},
   "source": [
    "## Ejecta Mass"
   ]
  },
  {
   "cell_type": "code",
   "execution_count": 5,
   "metadata": {},
   "outputs": [],
   "source": [
    "# Models that match\n",
    "mej_sn_models = last_step[(last_step.Mej_SN>8) & (last_step.Mej_SN<13)].filenames.unique()\n",
    "mej_supersn_models = last_step[(last_step.Mej_superSN>8) & (last_step.Mej_superSN<13)].filenames.unique()\n",
    "\n",
    "# cropping the data frame\n",
    "data_nsmej_SN = data_ns_SN[data_ns_SN.filenames.isin(mej_sn_models)]\n",
    "data_nsmej_superSN = data_ns_superSN[data_ns_superSN.filenames.isin(mej_supersn_models)]\n",
    "\n",
    "# clean up \n",
    "del data_ns_SN, data_ns_superSN\n",
    "gc.garbage.clear()"
   ]
  },
  {
   "cell_type": "code",
   "execution_count": 6,
   "metadata": {},
   "outputs": [
    {
     "data": {
      "text/plain": [
       "(774, 1863)"
      ]
     },
     "execution_count": 6,
     "metadata": {},
     "output_type": "execute_result"
    }
   ],
   "source": [
    "data_nsmej_SN.filenames.unique().size, data_nsmej_superSN.filenames.unique().size"
   ]
  },
  {
   "cell_type": "markdown",
   "metadata": {},
   "source": [
    "## No hydrogen at the end of the life"
   ]
  },
  {
   "cell_type": "code",
   "execution_count": 7,
   "metadata": {},
   "outputs": [],
   "source": [
    "# Finding the last steps takes a few seconds because it is iterative\n",
    "\n",
    "last_step_SN, last_step_superSN = df_last_step(data_nsmej_SN), df_last_step(data_nsmej_superSN)\n",
    "\n",
    "last_step_SN_grouped=last_step_SN.groupby('filenames').mean()\n",
    "last_step_superSN_grouped=last_step_superSN.groupby('filenames').mean()"
   ]
  },
  {
   "cell_type": "code",
   "execution_count": 8,
   "metadata": {},
   "outputs": [],
   "source": [
    "I_SN = last_step_SN_grouped[(last_step_SN_grouped.X<0.01)&(last_step_SN_grouped.MH1<0.001)]\n",
    "I_superSN = last_step_superSN_grouped[(last_step_superSN_grouped.X<0.01)&(last_step_superSN_grouped.MH1<0.001)]\n",
    "\n",
    "last_step_ISN = last_step_SN[last_step_SN.filenames.isin(I_SN.index.unique())]\n",
    "last_step_IsuperSN = last_step_superSN[last_step_superSN.filenames.isin(I_superSN.index.unique())]"
   ]
  },
  {
   "cell_type": "code",
   "execution_count": 9,
   "metadata": {},
   "outputs": [],
   "source": [
    "data_ISN = data_nsmej_SN[data_nsmej_SN.filenames.isin(I_SN.index.unique().values)]\n",
    "data_IsuperSN = data_nsmej_superSN[data_nsmej_superSN.filenames.isin(I_superSN.index.unique().values)]"
   ]
  },
  {
   "cell_type": "code",
   "execution_count": 10,
   "metadata": {},
   "outputs": [
    {
     "data": {
      "text/plain": [
       "(774, 1863)"
      ]
     },
     "execution_count": 10,
     "metadata": {},
     "output_type": "execute_result"
    }
   ],
   "source": [
    "# number of models for the super SN\n",
    "last_step_SN_grouped.index.unique().size, last_step_superSN_grouped.index.unique().size"
   ]
  },
  {
   "cell_type": "code",
   "execution_count": 12,
   "metadata": {},
   "outputs": [
    {
     "data": {
      "text/plain": [
       "(2, 761)"
      ]
     },
     "execution_count": 12,
     "metadata": {},
     "output_type": "execute_result"
    }
   ],
   "source": [
    "I_SN.index.unique().size, I_superSN.index.unique().size"
   ]
  },
  {
   "cell_type": "markdown",
   "metadata": {},
   "source": [
    "Note the sizes of the dataframes grouped by filenames or of the unique indices tell us the number of models found by each search criterion. These are reported in Table 1. "
   ]
  },
  {
   "cell_type": "markdown",
   "metadata": {},
   "source": [
    "## When do they lose their H?"
   ]
  },
  {
   "cell_type": "code",
   "execution_count": 13,
   "metadata": {},
   "outputs": [],
   "source": [
    "def when_lose_H_years(tejecta_to_csm=150, vphot=8000, vhalpha=1000):\n",
    "    t_ej_to_csm_sec = tejecta_to_csm*24*3600 # days to seconds\n",
    "    r_csm = t_ej_to_csm_sec*vphot\n",
    "    return r_csm/vhalpha/3600/24/365 #seconds to years\n",
    "    "
   ]
  },
  {
   "cell_type": "code",
   "execution_count": 14,
   "metadata": {},
   "outputs": [
    {
     "name": "stdout",
     "output_type": "stream",
     "text": [
      "CSM velocity of order 100 km/s\n"
     ]
    },
    {
     "data": {
      "text/plain": [
       "(21.91780821917808, 32.87671232876713)"
      ]
     },
     "execution_count": 14,
     "metadata": {},
     "output_type": "execute_result"
    }
   ],
   "source": [
    "print(\"CSM velocity of order 100 km/s\")\n",
    "when_lose_H_years(tejecta_to_csm=100, vhalpha=100), when_lose_H_years(tejecta_to_csm=150, vhalpha=100)"
   ]
  },
  {
   "cell_type": "code",
   "execution_count": 15,
   "metadata": {},
   "outputs": [
    {
     "name": "stdout",
     "output_type": "stream",
     "text": [
      "CSM velocity of order 1000 km/s\n"
     ]
    },
    {
     "data": {
      "text/plain": [
       "(2.191780821917808, 3.287671232876712)"
      ]
     },
     "execution_count": 15,
     "metadata": {},
     "output_type": "execute_result"
    }
   ],
   "source": [
    "print(\"CSM velocity of order 1000 km/s\")\n",
    "when_lose_H_years(tejecta_to_csm=100, vhalpha=1000), when_lose_H_years(tejecta_to_csm=150, vhalpha=1000)"
   ]
  },
  {
   "cell_type": "markdown",
   "metadata": {},
   "source": [
    "### Models with Normal SN energy"
   ]
  },
  {
   "cell_type": "code",
   "execution_count": 16,
   "metadata": {},
   "outputs": [
    {
     "data": {
      "text/plain": [
       "array(['NEWBINMODS/NEWBINMODS/z006/sneplot-z006-35-0.7-0.6',\n",
       "       'NEWBINMODS/NEWBINMODS/z006/sneplot-z006-12-0.9-0.8'], dtype=object)"
      ]
     },
     "execution_count": 16,
     "metadata": {},
     "output_type": "execute_result"
    }
   ],
   "source": [
    "data_ISN.filenames.unique()"
   ]
  },
  {
   "cell_type": "code",
   "execution_count": 17,
   "metadata": {},
   "outputs": [
    {
     "data": {
      "text/plain": [
       "filenames\n",
       "NEWBINMODS/NEWBINMODS/z006/sneplot-z006-12-0.9-0.8     54420.0\n",
       "NEWBINMODS/NEWBINMODS/z006/sneplot-z006-35-0.7-0.6    317434.0\n",
       "Name: age, dtype: float64"
      ]
     },
     "execution_count": 17,
     "metadata": {},
     "output_type": "execute_result"
    }
   ],
   "source": [
    "data_ISN[(data_ISN.X<0.01)&(data_ISN.MH1<0.001)].groupby('filenames').max().age - data_ISN[(data_ISN.X<0.01)&(data_ISN.MH1<0.001)].groupby('filenames').min().age"
   ]
  },
  {
   "cell_type": "markdown",
   "metadata": {},
   "source": [
    "So they lose they Hydrogen tens or hundreds of thousands of years before epxlosion. They are therefore not suitable. "
   ]
  },
  {
   "cell_type": "markdown",
   "metadata": {},
   "source": [
    "### Models with Super SN energy"
   ]
  },
  {
   "cell_type": "code",
   "execution_count": 18,
   "metadata": {},
   "outputs": [],
   "source": [
    "matches_superSN=data_IsuperSN.filenames.unique()"
   ]
  },
  {
   "cell_type": "code",
   "execution_count": 19,
   "metadata": {},
   "outputs": [
    {
     "name": "stdout",
     "output_type": "stream",
     "text": [
      "54.0 NEWBINMODS/NEWBINMODS/z006/sneplot-z006-30-0.4-2.2\n",
      "31.0 NEWBINMODS/NEWSECMODS/z006_2/sneplot_2-z006-30-25.1189-1.80000\n"
     ]
    }
   ],
   "source": [
    "for model in matches_superSN:\n",
    "    temp_df = data_IsuperSN[data_IsuperSN.filenames == model]\n",
    "    t_Hlost = temp_df.age.max()-temp_df[(temp_df.X<0.01)&(temp_df.MH1<0.001)].age.min()\n",
    "    if t_Hlost < 150:\n",
    "        print(t_Hlost, model)"
   ]
  },
  {
   "cell_type": "markdown",
   "metadata": {},
   "source": [
    "We have two models! one is a primary star, the other is a secondary. Let's make the data, save it and then move on to futher analysis."
   ]
  },
  {
   "cell_type": "code",
   "execution_count": 20,
   "metadata": {},
   "outputs": [],
   "source": [
    "data_match = data_IsuperSN[data_IsuperSN.filenames.isin(['NEWBINMODS/NEWBINMODS/z006/sneplot-z006-30-0.4-2.2',\n",
    "                                                           'NEWBINMODS/NEWSECMODS/z006_2/sneplot_2-z006-30-25.1189-1.80000'])]"
   ]
  },
  {
   "cell_type": "code",
   "execution_count": 21,
   "metadata": {},
   "outputs": [],
   "source": [
    "del data_ISN\n",
    "del data_IsuperSN\n",
    "gc.garbage.clear()"
   ]
  },
  {
   "cell_type": "markdown",
   "metadata": {},
   "source": [
    "# Data for Table 2 "
   ]
  },
  {
   "cell_type": "code",
   "execution_count": 23,
   "metadata": {},
   "outputs": [],
   "source": [
    "primary_model = data_match.filenames.unique()[0]\n",
    "secondary_model = data_match.filenames.unique()[1]\n",
    "\n",
    "data_prim = data_match[data_match.filenames == primary_model]\n",
    "data_sec = data_match[data_match.filenames == secondary_model]"
   ]
  },
  {
   "cell_type": "markdown",
   "metadata": {},
   "source": [
    "### Mass ZAMS"
   ]
  },
  {
   "cell_type": "code",
   "execution_count": 24,
   "metadata": {},
   "outputs": [
    {
     "name": "stdout",
     "output_type": "stream",
     "text": [
      "ZAMS -- Model 1\n"
     ]
    },
    {
     "data": {
      "text/html": [
       "<div>\n",
       "<style scoped>\n",
       "    .dataframe tbody tr th:only-of-type {\n",
       "        vertical-align: middle;\n",
       "    }\n",
       "\n",
       "    .dataframe tbody tr th {\n",
       "        vertical-align: top;\n",
       "    }\n",
       "\n",
       "    .dataframe thead th {\n",
       "        text-align: right;\n",
       "    }\n",
       "</style>\n",
       "<table border=\"1\" class=\"dataframe\">\n",
       "  <thead>\n",
       "    <tr style=\"text-align: right;\">\n",
       "      <th></th>\n",
       "      <th>M1</th>\n",
       "      <th>M2</th>\n",
       "    </tr>\n",
       "  </thead>\n",
       "  <tbody>\n",
       "    <tr>\n",
       "      <th>325657</th>\n",
       "      <td>30.0</td>\n",
       "      <td>12.0</td>\n",
       "    </tr>\n",
       "  </tbody>\n",
       "</table>\n",
       "</div>"
      ],
      "text/plain": [
       "          M1    M2\n",
       "325657  30.0  12.0"
      ]
     },
     "execution_count": 24,
     "metadata": {},
     "output_type": "execute_result"
    }
   ],
   "source": [
    "print('ZAMS -- Model 1')\n",
    "data_prim[data_prim.age==0.0][['M1', 'M2']]"
   ]
  },
  {
   "cell_type": "code",
   "execution_count": 25,
   "metadata": {},
   "outputs": [
    {
     "name": "stdout",
     "output_type": "stream",
     "text": [
      "ZAMS -- Model 2\n"
     ]
    },
    {
     "data": {
      "text/html": [
       "<div>\n",
       "<style scoped>\n",
       "    .dataframe tbody tr th:only-of-type {\n",
       "        vertical-align: middle;\n",
       "    }\n",
       "\n",
       "    .dataframe tbody tr th {\n",
       "        vertical-align: top;\n",
       "    }\n",
       "\n",
       "    .dataframe thead th {\n",
       "        text-align: right;\n",
       "    }\n",
       "</style>\n",
       "<table border=\"1\" class=\"dataframe\">\n",
       "  <thead>\n",
       "    <tr style=\"text-align: right;\">\n",
       "      <th></th>\n",
       "      <th>M1</th>\n",
       "      <th>M2</th>\n",
       "    </tr>\n",
       "  </thead>\n",
       "  <tbody>\n",
       "    <tr>\n",
       "      <th>1142778</th>\n",
       "      <td>30.0</td>\n",
       "      <td>25.1189</td>\n",
       "    </tr>\n",
       "  </tbody>\n",
       "</table>\n",
       "</div>"
      ],
      "text/plain": [
       "           M1       M2\n",
       "1142778  30.0  25.1189"
      ]
     },
     "execution_count": 25,
     "metadata": {},
     "output_type": "execute_result"
    }
   ],
   "source": [
    "print('ZAMS -- Model 2')\n",
    "data_sec[data_sec.age==0.0][['M1', 'M2']]"
   ]
  },
  {
   "cell_type": "markdown",
   "metadata": {},
   "source": [
    "### Characteristics at the end of the life"
   ]
  },
  {
   "cell_type": "code",
   "execution_count": 42,
   "metadata": {},
   "outputs": [
    {
     "data": {
      "text/html": [
       "<div>\n",
       "<style scoped>\n",
       "    .dataframe tbody tr th:only-of-type {\n",
       "        vertical-align: middle;\n",
       "    }\n",
       "\n",
       "    .dataframe tbody tr th {\n",
       "        vertical-align: top;\n",
       "    }\n",
       "\n",
       "    .dataframe thead th {\n",
       "        text-align: right;\n",
       "    }\n",
       "</style>\n",
       "<table border=\"1\" class=\"dataframe\">\n",
       "  <thead>\n",
       "    <tr style=\"text-align: right;\">\n",
       "      <th></th>\n",
       "      <th>M1</th>\n",
       "      <th>M2</th>\n",
       "      <th>X</th>\n",
       "      <th>MH1</th>\n",
       "      <th>MHe1</th>\n",
       "      <th>MC1</th>\n",
       "      <th>MO1</th>\n",
       "      <th>MNe1</th>\n",
       "      <th>Mej_superSN</th>\n",
       "      <th>Mrem_superSN</th>\n",
       "      <th>P_bin</th>\n",
       "      <th>modelimf</th>\n",
       "    </tr>\n",
       "  </thead>\n",
       "  <tbody>\n",
       "    <tr>\n",
       "      <th>325781</th>\n",
       "      <td>11.42328</td>\n",
       "      <td>12.07601</td>\n",
       "      <td>0.009843</td>\n",
       "      <td>0.0004</td>\n",
       "      <td>1.54064</td>\n",
       "      <td>1.30368</td>\n",
       "      <td>7.78203</td>\n",
       "      <td>0.75115</td>\n",
       "      <td>9.96994</td>\n",
       "      <td>1.45334</td>\n",
       "      <td>0.176182</td>\n",
       "      <td>1.582918</td>\n",
       "    </tr>\n",
       "  </tbody>\n",
       "</table>\n",
       "</div>"
      ],
      "text/plain": [
       "              M1        M2         X     MH1     MHe1      MC1      MO1  \\\n",
       "325781  11.42328  12.07601  0.009843  0.0004  1.54064  1.30368  7.78203   \n",
       "\n",
       "           MNe1  Mej_superSN  Mrem_superSN     P_bin  modelimf  \n",
       "325781  0.75115      9.96994       1.45334  0.176182  1.582918  "
      ]
     },
     "execution_count": 42,
     "metadata": {},
     "output_type": "execute_result"
    }
   ],
   "source": [
    "data_prim.tail(1)[['M1', 'M2', 'X', 'MH1','MHe1', 'MC1', 'MO1', 'MNe1', 'Mej_superSN','Mrem_superSN', 'P_bin', 'modelimf']]"
   ]
  },
  {
   "cell_type": "code",
   "execution_count": 44,
   "metadata": {},
   "outputs": [
    {
     "name": "stdout",
     "output_type": "stream",
     "text": [
      "period in years at death:  64.3063935\n"
     ]
    }
   ],
   "source": [
    "print(\"period in years at death: \", data_prim.tail(1).P_bin.values[0]*365)"
   ]
  },
  {
   "cell_type": "code",
   "execution_count": 45,
   "metadata": {},
   "outputs": [
    {
     "data": {
      "text/html": [
       "<div>\n",
       "<style scoped>\n",
       "    .dataframe tbody tr th:only-of-type {\n",
       "        vertical-align: middle;\n",
       "    }\n",
       "\n",
       "    .dataframe tbody tr th {\n",
       "        vertical-align: top;\n",
       "    }\n",
       "\n",
       "    .dataframe thead th {\n",
       "        text-align: right;\n",
       "    }\n",
       "</style>\n",
       "<table border=\"1\" class=\"dataframe\">\n",
       "  <thead>\n",
       "    <tr style=\"text-align: right;\">\n",
       "      <th></th>\n",
       "      <th>M1</th>\n",
       "      <th>M2</th>\n",
       "      <th>X</th>\n",
       "      <th>MH1</th>\n",
       "      <th>MHe1</th>\n",
       "      <th>MC1</th>\n",
       "      <th>MO1</th>\n",
       "      <th>MNe1</th>\n",
       "      <th>Mej_superSN</th>\n",
       "      <th>Mrem_superSN</th>\n",
       "      <th>P_bin</th>\n",
       "      <th>modelimf</th>\n",
       "    </tr>\n",
       "  </thead>\n",
       "  <tbody>\n",
       "    <tr>\n",
       "      <th>1142896</th>\n",
       "      <td>11.4469</td>\n",
       "      <td>26.48166</td>\n",
       "      <td>0.009891</td>\n",
       "      <td>0.00039</td>\n",
       "      <td>1.54683</td>\n",
       "      <td>1.3192</td>\n",
       "      <td>7.79297</td>\n",
       "      <td>0.74307</td>\n",
       "      <td>9.9918</td>\n",
       "      <td>1.4551</td>\n",
       "      <td>0.157336</td>\n",
       "      <td>0.014344</td>\n",
       "    </tr>\n",
       "  </tbody>\n",
       "</table>\n",
       "</div>"
      ],
      "text/plain": [
       "              M1        M2         X      MH1     MHe1     MC1      MO1  \\\n",
       "1142896  11.4469  26.48166  0.009891  0.00039  1.54683  1.3192  7.79297   \n",
       "\n",
       "            MNe1  Mej_superSN  Mrem_superSN     P_bin  modelimf  \n",
       "1142896  0.74307       9.9918        1.4551  0.157336  0.014344  "
      ]
     },
     "execution_count": 45,
     "metadata": {},
     "output_type": "execute_result"
    }
   ],
   "source": [
    "data_sec.tail(1)[['M1', 'M2', 'X', 'MH1', 'MHe1', 'MC1', 'MO1', 'MNe1','Mej_superSN','Mrem_superSN', 'P_bin', 'modelimf']]"
   ]
  },
  {
   "cell_type": "code",
   "execution_count": 46,
   "metadata": {},
   "outputs": [
    {
     "name": "stdout",
     "output_type": "stream",
     "text": [
      "period in years  at death:  57.4278225\n"
     ]
    }
   ],
   "source": [
    "print(\"period in years  at death: \", data_sec.tail(1).P_bin.values[0]*365)"
   ]
  },
  {
   "cell_type": "markdown",
   "metadata": {},
   "source": [
    "# Figure 1\n",
    "\n",
    "### Main Sequence"
   ]
  },
  {
   "cell_type": "code",
   "execution_count": 7,
   "metadata": {},
   "outputs": [],
   "source": [
    "data_all =  pd.read_pickle('Models_M1zams_10msol_ALL.pkl')\n",
    "zams = data_all[data_all.age==0.0][['log(T1)','log(L1)']]\n",
    "zams.sort_values('log(L1)', inplace=True)\n",
    "MS_T, MS_L = zams['log(T1)'].values, zams['log(L1)'].values"
   ]
  },
  {
   "cell_type": "code",
   "execution_count": 56,
   "metadata": {},
   "outputs": [
    {
     "name": "stderr",
     "output_type": "stream",
     "text": [
      "<ipython-input-56-43be556213e7>:12: RuntimeWarning: divide by zero encountered in true_divide\n",
      "  L_dot_1=dL_1/dt_1\n",
      "<ipython-input-56-43be556213e7>:12: RuntimeWarning: invalid value encountered in true_divide\n",
      "  L_dot_1=dL_1/dt_1\n",
      "<ipython-input-56-43be556213e7>:13: RuntimeWarning: invalid value encountered in greater_equal\n",
      "  last_loss_1 = data_after_mt_1[L_dot_1>=1e-6]\n"
     ]
    }
   ],
   "source": [
    "# Mass transfer phases\n",
    "mt_1 = data_prim[data_prim.DM1R<0.0][['age', 'log(T1)','log(L1)']]\n",
    "\n",
    "### Mass loss\n",
    "data_after_mt_1 = data_prim[data_prim.age > mt_1.age.max()]\n",
    "\n",
    "# Common envelope phase\n",
    "CEE_1 = data_prim[data_prim['log(a)']<data_prim['log(R1)']][['age', 'log(T1)','log(L1)']]\n",
    "\n",
    "# Finding the phase where Luminosity cahnges very rapidly\n",
    "dL_1=np.gradient(data_after_mt_1['log(L1)'].values)\n",
    "dt_1 = np.gradient(data_after_mt_1.age.values)\n",
    "L_dot_1=dL_1/dt_1\n",
    "last_loss_1 = data_after_mt_1[L_dot_1>=1e-6]\n",
    "\n",
    "# When H poor\n",
    "Hpoor_1 = data_prim[(data_prim.MH1<0.001) & (data_prim.X <0.01)].head(1)[['age', 'log(T1)','log(L1)']]"
   ]
  },
  {
   "cell_type": "markdown",
   "metadata": {},
   "source": [
    "### CO_core growth\n",
    "\n",
    "We check where the core growth starts - obviously it's not a clear divide but we pick that age at which the growth really picks up "
   ]
  },
  {
   "cell_type": "code",
   "execution_count": 66,
   "metadata": {},
   "outputs": [
    {
     "data": {
      "text/html": [
       "<div>\n",
       "<style scoped>\n",
       "    .dataframe tbody tr th:only-of-type {\n",
       "        vertical-align: middle;\n",
       "    }\n",
       "\n",
       "    .dataframe tbody tr th {\n",
       "        vertical-align: top;\n",
       "    }\n",
       "\n",
       "    .dataframe thead th {\n",
       "        text-align: right;\n",
       "    }\n",
       "</style>\n",
       "<table border=\"1\" class=\"dataframe\">\n",
       "  <thead>\n",
       "    <tr style=\"text-align: right;\">\n",
       "      <th></th>\n",
       "      <th>age</th>\n",
       "      <th>CO_core1</th>\n",
       "    </tr>\n",
       "  </thead>\n",
       "  <tbody>\n",
       "    <tr>\n",
       "      <th>325732</th>\n",
       "      <td>6591750.0</td>\n",
       "      <td>0.00006</td>\n",
       "    </tr>\n",
       "    <tr>\n",
       "      <th>325733</th>\n",
       "      <td>6605524.0</td>\n",
       "      <td>0.00006</td>\n",
       "    </tr>\n",
       "    <tr>\n",
       "      <th>325734</th>\n",
       "      <td>6619487.0</td>\n",
       "      <td>0.00006</td>\n",
       "    </tr>\n",
       "    <tr>\n",
       "      <th>325735</th>\n",
       "      <td>6633788.0</td>\n",
       "      <td>0.00007</td>\n",
       "    </tr>\n",
       "    <tr>\n",
       "      <th>325736</th>\n",
       "      <td>6648632.0</td>\n",
       "      <td>0.00007</td>\n",
       "    </tr>\n",
       "    <tr>\n",
       "      <th>325737</th>\n",
       "      <td>6664217.0</td>\n",
       "      <td>0.00008</td>\n",
       "    </tr>\n",
       "    <tr>\n",
       "      <th>325738</th>\n",
       "      <td>6680809.0</td>\n",
       "      <td>0.00009</td>\n",
       "    </tr>\n",
       "    <tr>\n",
       "      <th>325739</th>\n",
       "      <td>6698854.0</td>\n",
       "      <td>0.00010</td>\n",
       "    </tr>\n",
       "    <tr>\n",
       "      <th>325740</th>\n",
       "      <td>6718973.0</td>\n",
       "      <td>0.00011</td>\n",
       "    </tr>\n",
       "    <tr>\n",
       "      <th>325741</th>\n",
       "      <td>6741643.0</td>\n",
       "      <td>0.00013</td>\n",
       "    </tr>\n",
       "    <tr>\n",
       "      <th>325742</th>\n",
       "      <td>6766173.0</td>\n",
       "      <td>0.00017</td>\n",
       "    </tr>\n",
       "    <tr>\n",
       "      <th>325743</th>\n",
       "      <td>6773698.0</td>\n",
       "      <td>6.97610</td>\n",
       "    </tr>\n",
       "    <tr>\n",
       "      <th>325744</th>\n",
       "      <td>6774378.0</td>\n",
       "      <td>7.82659</td>\n",
       "    </tr>\n",
       "    <tr>\n",
       "      <th>325745</th>\n",
       "      <td>6776216.0</td>\n",
       "      <td>8.46123</td>\n",
       "    </tr>\n",
       "    <tr>\n",
       "      <th>325746</th>\n",
       "      <td>6781188.0</td>\n",
       "      <td>8.88386</td>\n",
       "    </tr>\n",
       "    <tr>\n",
       "      <th>325747</th>\n",
       "      <td>6793526.0</td>\n",
       "      <td>9.23852</td>\n",
       "    </tr>\n",
       "    <tr>\n",
       "      <th>325748</th>\n",
       "      <td>6806241.0</td>\n",
       "      <td>9.40742</td>\n",
       "    </tr>\n",
       "    <tr>\n",
       "      <th>325749</th>\n",
       "      <td>6816292.0</td>\n",
       "      <td>9.46222</td>\n",
       "    </tr>\n",
       "    <tr>\n",
       "      <th>325750</th>\n",
       "      <td>6824162.0</td>\n",
       "      <td>9.48064</td>\n",
       "    </tr>\n",
       "    <tr>\n",
       "      <th>325751</th>\n",
       "      <td>6830643.0</td>\n",
       "      <td>9.50068</td>\n",
       "    </tr>\n",
       "    <tr>\n",
       "      <th>325752</th>\n",
       "      <td>6836222.0</td>\n",
       "      <td>9.51840</td>\n",
       "    </tr>\n",
       "    <tr>\n",
       "      <th>325753</th>\n",
       "      <td>6841201.0</td>\n",
       "      <td>9.52767</td>\n",
       "    </tr>\n",
       "    <tr>\n",
       "      <th>325754</th>\n",
       "      <td>6845790.0</td>\n",
       "      <td>9.53361</td>\n",
       "    </tr>\n",
       "    <tr>\n",
       "      <th>325755</th>\n",
       "      <td>6850125.0</td>\n",
       "      <td>9.53382</td>\n",
       "    </tr>\n",
       "    <tr>\n",
       "      <th>325756</th>\n",
       "      <td>6854281.0</td>\n",
       "      <td>9.52466</td>\n",
       "    </tr>\n",
       "    <tr>\n",
       "      <th>325757</th>\n",
       "      <td>6858108.0</td>\n",
       "      <td>9.52014</td>\n",
       "    </tr>\n",
       "    <tr>\n",
       "      <th>325758</th>\n",
       "      <td>6861009.0</td>\n",
       "      <td>9.51920</td>\n",
       "    </tr>\n",
       "    <tr>\n",
       "      <th>325759</th>\n",
       "      <td>6862501.0</td>\n",
       "      <td>9.51478</td>\n",
       "    </tr>\n",
       "    <tr>\n",
       "      <th>325760</th>\n",
       "      <td>6863165.0</td>\n",
       "      <td>9.51231</td>\n",
       "    </tr>\n",
       "    <tr>\n",
       "      <th>325761</th>\n",
       "      <td>6863829.0</td>\n",
       "      <td>9.50960</td>\n",
       "    </tr>\n",
       "    <tr>\n",
       "      <th>325762</th>\n",
       "      <td>6864528.0</td>\n",
       "      <td>9.50418</td>\n",
       "    </tr>\n",
       "    <tr>\n",
       "      <th>325763</th>\n",
       "      <td>6865260.0</td>\n",
       "      <td>9.50182</td>\n",
       "    </tr>\n",
       "    <tr>\n",
       "      <th>325764</th>\n",
       "      <td>6866018.0</td>\n",
       "      <td>9.50118</td>\n",
       "    </tr>\n",
       "    <tr>\n",
       "      <th>325765</th>\n",
       "      <td>6866802.0</td>\n",
       "      <td>9.50018</td>\n",
       "    </tr>\n",
       "    <tr>\n",
       "      <th>325766</th>\n",
       "      <td>6867613.0</td>\n",
       "      <td>9.49680</td>\n",
       "    </tr>\n",
       "    <tr>\n",
       "      <th>325767</th>\n",
       "      <td>6868402.0</td>\n",
       "      <td>9.49182</td>\n",
       "    </tr>\n",
       "    <tr>\n",
       "      <th>325768</th>\n",
       "      <td>6869006.0</td>\n",
       "      <td>9.47861</td>\n",
       "    </tr>\n",
       "    <tr>\n",
       "      <th>325769</th>\n",
       "      <td>6869321.0</td>\n",
       "      <td>9.46491</td>\n",
       "    </tr>\n",
       "    <tr>\n",
       "      <th>325770</th>\n",
       "      <td>6869451.0</td>\n",
       "      <td>9.45079</td>\n",
       "    </tr>\n",
       "    <tr>\n",
       "      <th>325771</th>\n",
       "      <td>6869507.0</td>\n",
       "      <td>9.43445</td>\n",
       "    </tr>\n",
       "    <tr>\n",
       "      <th>325772</th>\n",
       "      <td>6869535.0</td>\n",
       "      <td>9.41841</td>\n",
       "    </tr>\n",
       "    <tr>\n",
       "      <th>325773</th>\n",
       "      <td>6869549.0</td>\n",
       "      <td>9.31320</td>\n",
       "    </tr>\n",
       "    <tr>\n",
       "      <th>325774</th>\n",
       "      <td>6869555.0</td>\n",
       "      <td>9.20183</td>\n",
       "    </tr>\n",
       "    <tr>\n",
       "      <th>325775</th>\n",
       "      <td>6869558.0</td>\n",
       "      <td>9.11425</td>\n",
       "    </tr>\n",
       "    <tr>\n",
       "      <th>325776</th>\n",
       "      <td>6869560.0</td>\n",
       "      <td>9.03893</td>\n",
       "    </tr>\n",
       "    <tr>\n",
       "      <th>325777</th>\n",
       "      <td>6869560.0</td>\n",
       "      <td>8.98388</td>\n",
       "    </tr>\n",
       "    <tr>\n",
       "      <th>325778</th>\n",
       "      <td>6869561.0</td>\n",
       "      <td>8.93173</td>\n",
       "    </tr>\n",
       "    <tr>\n",
       "      <th>325779</th>\n",
       "      <td>6869561.0</td>\n",
       "      <td>8.88967</td>\n",
       "    </tr>\n",
       "    <tr>\n",
       "      <th>325780</th>\n",
       "      <td>6869561.0</td>\n",
       "      <td>8.88208</td>\n",
       "    </tr>\n",
       "    <tr>\n",
       "      <th>325781</th>\n",
       "      <td>6869561.0</td>\n",
       "      <td>8.88208</td>\n",
       "    </tr>\n",
       "  </tbody>\n",
       "</table>\n",
       "</div>"
      ],
      "text/plain": [
       "              age  CO_core1\n",
       "325732  6591750.0   0.00006\n",
       "325733  6605524.0   0.00006\n",
       "325734  6619487.0   0.00006\n",
       "325735  6633788.0   0.00007\n",
       "325736  6648632.0   0.00007\n",
       "325737  6664217.0   0.00008\n",
       "325738  6680809.0   0.00009\n",
       "325739  6698854.0   0.00010\n",
       "325740  6718973.0   0.00011\n",
       "325741  6741643.0   0.00013\n",
       "325742  6766173.0   0.00017\n",
       "325743  6773698.0   6.97610\n",
       "325744  6774378.0   7.82659\n",
       "325745  6776216.0   8.46123\n",
       "325746  6781188.0   8.88386\n",
       "325747  6793526.0   9.23852\n",
       "325748  6806241.0   9.40742\n",
       "325749  6816292.0   9.46222\n",
       "325750  6824162.0   9.48064\n",
       "325751  6830643.0   9.50068\n",
       "325752  6836222.0   9.51840\n",
       "325753  6841201.0   9.52767\n",
       "325754  6845790.0   9.53361\n",
       "325755  6850125.0   9.53382\n",
       "325756  6854281.0   9.52466\n",
       "325757  6858108.0   9.52014\n",
       "325758  6861009.0   9.51920\n",
       "325759  6862501.0   9.51478\n",
       "325760  6863165.0   9.51231\n",
       "325761  6863829.0   9.50960\n",
       "325762  6864528.0   9.50418\n",
       "325763  6865260.0   9.50182\n",
       "325764  6866018.0   9.50118\n",
       "325765  6866802.0   9.50018\n",
       "325766  6867613.0   9.49680\n",
       "325767  6868402.0   9.49182\n",
       "325768  6869006.0   9.47861\n",
       "325769  6869321.0   9.46491\n",
       "325770  6869451.0   9.45079\n",
       "325771  6869507.0   9.43445\n",
       "325772  6869535.0   9.41841\n",
       "325773  6869549.0   9.31320\n",
       "325774  6869555.0   9.20183\n",
       "325775  6869558.0   9.11425\n",
       "325776  6869560.0   9.03893\n",
       "325777  6869560.0   8.98388\n",
       "325778  6869561.0   8.93173\n",
       "325779  6869561.0   8.88967\n",
       "325780  6869561.0   8.88208\n",
       "325781  6869561.0   8.88208"
      ]
     },
     "execution_count": 66,
     "metadata": {},
     "output_type": "execute_result"
    }
   ],
   "source": [
    "data_prim[(data_prim.CO_core1>0.0) &(data_prim.age!=0.0) ][['age', 'CO_core1']].tail(50)"
   ]
  },
  {
   "cell_type": "markdown",
   "metadata": {},
   "source": [
    "### ONe_Core growth\n",
    "\n",
    "Same as above"
   ]
  },
  {
   "cell_type": "code",
   "execution_count": 62,
   "metadata": {},
   "outputs": [
    {
     "data": {
      "text/html": [
       "<div>\n",
       "<style scoped>\n",
       "    .dataframe tbody tr th:only-of-type {\n",
       "        vertical-align: middle;\n",
       "    }\n",
       "\n",
       "    .dataframe tbody tr th {\n",
       "        vertical-align: top;\n",
       "    }\n",
       "\n",
       "    .dataframe thead th {\n",
       "        text-align: right;\n",
       "    }\n",
       "</style>\n",
       "<table border=\"1\" class=\"dataframe\">\n",
       "  <thead>\n",
       "    <tr style=\"text-align: right;\">\n",
       "      <th></th>\n",
       "      <th>age</th>\n",
       "      <th>ONe_core1</th>\n",
       "    </tr>\n",
       "  </thead>\n",
       "  <tbody>\n",
       "    <tr>\n",
       "      <th>325752</th>\n",
       "      <td>6836222.0</td>\n",
       "      <td>0.00001</td>\n",
       "    </tr>\n",
       "    <tr>\n",
       "      <th>325753</th>\n",
       "      <td>6841201.0</td>\n",
       "      <td>0.00001</td>\n",
       "    </tr>\n",
       "    <tr>\n",
       "      <th>325754</th>\n",
       "      <td>6845790.0</td>\n",
       "      <td>0.00001</td>\n",
       "    </tr>\n",
       "    <tr>\n",
       "      <th>325755</th>\n",
       "      <td>6850125.0</td>\n",
       "      <td>0.00001</td>\n",
       "    </tr>\n",
       "    <tr>\n",
       "      <th>325756</th>\n",
       "      <td>6854281.0</td>\n",
       "      <td>0.00001</td>\n",
       "    </tr>\n",
       "    <tr>\n",
       "      <th>325757</th>\n",
       "      <td>6858108.0</td>\n",
       "      <td>0.00001</td>\n",
       "    </tr>\n",
       "    <tr>\n",
       "      <th>325758</th>\n",
       "      <td>6861009.0</td>\n",
       "      <td>0.00001</td>\n",
       "    </tr>\n",
       "    <tr>\n",
       "      <th>325759</th>\n",
       "      <td>6862501.0</td>\n",
       "      <td>0.00001</td>\n",
       "    </tr>\n",
       "    <tr>\n",
       "      <th>325760</th>\n",
       "      <td>6863165.0</td>\n",
       "      <td>0.00001</td>\n",
       "    </tr>\n",
       "    <tr>\n",
       "      <th>325761</th>\n",
       "      <td>6863829.0</td>\n",
       "      <td>0.00001</td>\n",
       "    </tr>\n",
       "    <tr>\n",
       "      <th>325762</th>\n",
       "      <td>6864528.0</td>\n",
       "      <td>0.00002</td>\n",
       "    </tr>\n",
       "    <tr>\n",
       "      <th>325763</th>\n",
       "      <td>6865260.0</td>\n",
       "      <td>0.00002</td>\n",
       "    </tr>\n",
       "    <tr>\n",
       "      <th>325764</th>\n",
       "      <td>6866018.0</td>\n",
       "      <td>0.00002</td>\n",
       "    </tr>\n",
       "    <tr>\n",
       "      <th>325765</th>\n",
       "      <td>6866802.0</td>\n",
       "      <td>0.00002</td>\n",
       "    </tr>\n",
       "    <tr>\n",
       "      <th>325766</th>\n",
       "      <td>6867613.0</td>\n",
       "      <td>0.00002</td>\n",
       "    </tr>\n",
       "    <tr>\n",
       "      <th>325767</th>\n",
       "      <td>6868402.0</td>\n",
       "      <td>0.00002</td>\n",
       "    </tr>\n",
       "    <tr>\n",
       "      <th>325768</th>\n",
       "      <td>6869006.0</td>\n",
       "      <td>0.00002</td>\n",
       "    </tr>\n",
       "    <tr>\n",
       "      <th>325769</th>\n",
       "      <td>6869321.0</td>\n",
       "      <td>0.00002</td>\n",
       "    </tr>\n",
       "    <tr>\n",
       "      <th>325770</th>\n",
       "      <td>6869451.0</td>\n",
       "      <td>0.00002</td>\n",
       "    </tr>\n",
       "    <tr>\n",
       "      <th>325771</th>\n",
       "      <td>6869507.0</td>\n",
       "      <td>0.00002</td>\n",
       "    </tr>\n",
       "    <tr>\n",
       "      <th>325772</th>\n",
       "      <td>6869535.0</td>\n",
       "      <td>0.00004</td>\n",
       "    </tr>\n",
       "    <tr>\n",
       "      <th>325773</th>\n",
       "      <td>6869549.0</td>\n",
       "      <td>0.00010</td>\n",
       "    </tr>\n",
       "    <tr>\n",
       "      <th>325774</th>\n",
       "      <td>6869555.0</td>\n",
       "      <td>0.00025</td>\n",
       "    </tr>\n",
       "    <tr>\n",
       "      <th>325775</th>\n",
       "      <td>6869558.0</td>\n",
       "      <td>0.25678</td>\n",
       "    </tr>\n",
       "    <tr>\n",
       "      <th>325776</th>\n",
       "      <td>6869560.0</td>\n",
       "      <td>0.68873</td>\n",
       "    </tr>\n",
       "    <tr>\n",
       "      <th>325777</th>\n",
       "      <td>6869560.0</td>\n",
       "      <td>1.11484</td>\n",
       "    </tr>\n",
       "    <tr>\n",
       "      <th>325778</th>\n",
       "      <td>6869561.0</td>\n",
       "      <td>1.49340</td>\n",
       "    </tr>\n",
       "    <tr>\n",
       "      <th>325779</th>\n",
       "      <td>6869561.0</td>\n",
       "      <td>1.82470</td>\n",
       "    </tr>\n",
       "    <tr>\n",
       "      <th>325780</th>\n",
       "      <td>6869561.0</td>\n",
       "      <td>1.88716</td>\n",
       "    </tr>\n",
       "    <tr>\n",
       "      <th>325781</th>\n",
       "      <td>6869561.0</td>\n",
       "      <td>1.88716</td>\n",
       "    </tr>\n",
       "  </tbody>\n",
       "</table>\n",
       "</div>"
      ],
      "text/plain": [
       "              age  ONe_core1\n",
       "325752  6836222.0    0.00001\n",
       "325753  6841201.0    0.00001\n",
       "325754  6845790.0    0.00001\n",
       "325755  6850125.0    0.00001\n",
       "325756  6854281.0    0.00001\n",
       "325757  6858108.0    0.00001\n",
       "325758  6861009.0    0.00001\n",
       "325759  6862501.0    0.00001\n",
       "325760  6863165.0    0.00001\n",
       "325761  6863829.0    0.00001\n",
       "325762  6864528.0    0.00002\n",
       "325763  6865260.0    0.00002\n",
       "325764  6866018.0    0.00002\n",
       "325765  6866802.0    0.00002\n",
       "325766  6867613.0    0.00002\n",
       "325767  6868402.0    0.00002\n",
       "325768  6869006.0    0.00002\n",
       "325769  6869321.0    0.00002\n",
       "325770  6869451.0    0.00002\n",
       "325771  6869507.0    0.00002\n",
       "325772  6869535.0    0.00004\n",
       "325773  6869549.0    0.00010\n",
       "325774  6869555.0    0.00025\n",
       "325775  6869558.0    0.25678\n",
       "325776  6869560.0    0.68873\n",
       "325777  6869560.0    1.11484\n",
       "325778  6869561.0    1.49340\n",
       "325779  6869561.0    1.82470\n",
       "325780  6869561.0    1.88716\n",
       "325781  6869561.0    1.88716"
      ]
     },
     "execution_count": 62,
     "metadata": {},
     "output_type": "execute_result"
    }
   ],
   "source": [
    "data_prim[(data_prim.ONe_core1>0.0) &(data_prim.age!=0.0) ][['age', 'ONe_core1']].tail(30)"
   ]
  },
  {
   "cell_type": "code",
   "execution_count": 57,
   "metadata": {},
   "outputs": [
    {
     "data": {
      "text/plain": [
       "Text(0.5, 0, 'Time (years)')"
      ]
     },
     "execution_count": 57,
     "metadata": {},
     "output_type": "execute_result"
    },
    {
     "data": {
      "image/png": "[encoded data removed]",
      "text/plain": [
       "<Figure size 750x1500 with 2 Axes>"
      ]
     },
     "metadata": {
      "needs_background": "light"
     },
     "output_type": "display_data"
    }
   ],
   "source": [
    "fig, ax = plt.subplots(nrows=2,figsize=(5,10))\n",
    "\n",
    "\n",
    "ax[0].plot(MS_T, MS_L, ls='--', c='grey', label='Zero Age Main Sequence')\n",
    "ax[0].plot(data_prim['log(T1)'], data_prim['log(L1)'], label='ZAMS=30', zorder=15, c='k')\n",
    "\n",
    "ax[0].plot(CEE_1['log(T1)'], CEE_1['log(L1)'], c='orange', lw=4, alpha=1, label='CEE phase', zorder=10)\n",
    "ax[0].plot(mt_1['log(T1)'], mt_1['log(L1)'], c='green', lw=4, alpha=0.5,\n",
    "         label='mass transfer phase')\n",
    "\n",
    "ax[0].plot(last_loss_1['log(T1)'], last_loss_1['log(L1)'], c='cornflowerblue', lw=4, alpha=0.5,\n",
    "         label='Rapid mass loss')\n",
    "ax[0].scatter(Hpoor_1['log(T1)'],Hpoor_1['log(L1)'], marker='x', s=10, c='cornflowerblue', zorder=20, label='H poor')\n",
    "\n",
    "ax[0].text(4.4, 5.25, r'ZAMS=30$M_{\\odot}$', color='k')\n",
    "ax[0].text(5.2, 5.6, 'H-poor', color='cornflowerblue')\n",
    "\n",
    "ax[0].set_ylim([4.75,5.8])\n",
    "ax[0].set_xlim([5.5, 3.5])\n",
    "ax[0].set_xlabel('log(T)')\n",
    "ax[0].set_ylabel('log(L)')\n",
    "\n",
    "\n",
    "######################\n",
    "ax[1].plot(data_prim.age, data_prim.X, color='k', zorder=100, alpha=0.5, \n",
    "           label='X (hydrogen mass fraction)')\n",
    "\n",
    "ax[1].axvspan(mt_1.age.min(), mt_1.age.max(), color='green',label='Mass transfer', alpha=0.5)\n",
    "ax[1].axvspan(CEE_1.age.min(), CEE_1.age.max(), color='orange', label='CEE', alpha=0.8)\n",
    "ax[1].axvspan(last_loss_1.age.min(), last_loss_1.age.max(), color='cornflowerblue', \n",
    "              label='Strong winds', alpha=0.8)\n",
    "\n",
    "ax[1].axvline(6773698.0, ls='--', color='midnightblue', lw=1, label='Onset Core He burning')\n",
    "ax[1].axvline(6864528.0, ls=':', color='darkred', lw=1, label='Onset Core C burning')\n",
    "\n",
    "ax[1].plot(data_prim.age, data_prim['log(R1)'], label=r'log(R/R$_{\\odot}$)',)\n",
    "ax[1].plot(data_prim.age, data_prim.MH1, label=r'M$_{H}/M_{\\odot}$')\n",
    "\n",
    "\n",
    "\n",
    "ax[1].set_xlim([6.1e6,6.9e6])\n",
    "ax[1].set_ylim([-0.3,3])\n",
    "ax[1].legend(loc=1, fontsize=10, ncol=2, bbox_to_anchor=(1.05, -0.2))\n",
    "ax[1].set_xlabel('Time (years)')\n"
   ]
  }
 ],
 "metadata": {
  "kernelspec": {
   "display_name": "Python 3",
   "language": "python",
   "name": "python3"
  },
  "language_info": {
   "codemirror_mode": {
    "name": "ipython",
    "version": 3
   },
   "file_extension": ".py",
   "mimetype": "text/x-python",
   "name": "python",
   "nbconvert_exporter": "python",
   "pygments_lexer": "ipython3",
   "version": "3.8.5"
  }
 },
 "nbformat": 4,
 "nbformat_minor": 4
}
